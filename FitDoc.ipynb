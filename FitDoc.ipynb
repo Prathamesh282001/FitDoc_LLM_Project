{
 "cells": [
  {
   "cell_type": "code",
   "execution_count": 8,
   "id": "4de4ff92",
   "metadata": {},
   "outputs": [],
   "source": [
    "import warnings\n",
    "warnings.filterwarnings(\"ignore\")"
   ]
  },
  {
   "cell_type": "code",
   "execution_count": 9,
   "id": "c9e012ce",
   "metadata": {},
   "outputs": [],
   "source": [
    "import os\n",
    "import langchain"
   ]
  },
  {
   "cell_type": "code",
   "execution_count": 10,
   "id": "1eba38dd",
   "metadata": {},
   "outputs": [],
   "source": [
    "from langchain.llms import GooglePalm"
   ]
  },
  {
   "cell_type": "code",
   "execution_count": 11,
   "id": "cb68c3ba",
   "metadata": {},
   "outputs": [],
   "source": [
    "api_key = \"AIzbSyDfByrNpVlLGjpXrvgE0882wP04R6hdn78\"\n",
    "nutri_api_key = \"21cb7ff76a0554dff9a8e2b3f33b4680\"\n",
    "ninja_api_key = \"2NybB48JuPFkfc/seQUvag==q0SyyvwM8BLi78bp\""
   ]
  },
  {
   "cell_type": "code",
   "execution_count": 12,
   "id": "6bd7f021",
   "metadata": {
    "scrolled": true
   },
   "outputs": [],
   "source": [
    "llm = GooglePalm(google_api_key=api_key,temperature=0.7)"
   ]
  },
  {
   "cell_type": "markdown",
   "id": "4209a599",
   "metadata": {},
   "source": [
    "# "
   ]
  },
  {
   "cell_type": "markdown",
   "id": "8cf6f80e",
   "metadata": {},
   "source": [
    "### For Nutrition related data"
   ]
  },
  {
   "cell_type": "code",
   "execution_count": 13,
   "id": "f66ed97b",
   "metadata": {},
   "outputs": [],
   "source": [
    "import requests"
   ]
  },
  {
   "cell_type": "code",
   "execution_count": 14,
   "id": "b0cf9cec",
   "metadata": {},
   "outputs": [],
   "source": [
    "query = \"Give me nutrition information about chicken\"\n",
    "Type = \"exercises\""
   ]
  },
  {
   "cell_type": "code",
   "execution_count": 15,
   "id": "a14582d3",
   "metadata": {},
   "outputs": [],
   "source": [
    "api_url = 'https://api.api-ninjas.com/v1/nutrition?query={}'.format(query)\n",
    "response = requests.get(api_url, timeout=100, headers={'X-Api-Key': ninja_api_key})"
   ]
  },
  {
   "cell_type": "code",
   "execution_count": 16,
   "id": "30414c5f",
   "metadata": {},
   "outputs": [
    {
     "data": {
      "text/plain": [
       "'[{\"name\": \"chicken\", \"calories\": 222.6, \"serving_size_g\": 100.0, \"fat_total_g\": 12.9, \"fat_saturated_g\": 3.7, \"protein_g\": 23.7, \"sodium_mg\": 72, \"potassium_mg\": 179, \"cholesterol_mg\": 92, \"carbohydrates_total_g\": 0.0, \"fiber_g\": 0.0, \"sugar_g\": 0.0}]'"
      ]
     },
     "execution_count": 16,
     "metadata": {},
     "output_type": "execute_result"
    }
   ],
   "source": [
    "response.text"
   ]
  },
  {
   "cell_type": "markdown",
   "id": "7aca344c",
   "metadata": {},
   "source": [
    "# "
   ]
  },
  {
   "cell_type": "markdown",
   "id": "43c34eae",
   "metadata": {},
   "source": [
    "### For Workout related data"
   ]
  },
  {
   "cell_type": "code",
   "execution_count": 17,
   "id": "2bac34fc",
   "metadata": {},
   "outputs": [],
   "source": [
    "body_parts=[\"abdominals\",\"abductors\",\"adductors\",\"biceps\",\"calves\",\"chest\",\"forearms\",\"glutes\",\"hamstrings\",\"lats\",\"lower_back\",\n",
    "        \"middle_back\",\"neck\",\"quadriceps\",\"traps\",\"triceps\"]"
   ]
  },
  {
   "cell_type": "code",
   "execution_count": 18,
   "id": "96f64a12",
   "metadata": {},
   "outputs": [],
   "source": [
    "api_url = 'https://api.api-ninjas.com/v1/exercises?muscle={}'.format(query)\n",
    "response = requests.get(api_url, timeout=100, headers={'X-Api-Key': ninja_api_key})"
   ]
  },
  {
   "cell_type": "code",
   "execution_count": 19,
   "id": "464cd442",
   "metadata": {
    "scrolled": true
   },
   "outputs": [
    {
     "data": {
      "text/plain": [
       "'[]'"
      ]
     },
     "execution_count": 19,
     "metadata": {},
     "output_type": "execute_result"
    }
   ],
   "source": [
    "response.text"
   ]
  },
  {
   "cell_type": "markdown",
   "id": "dddf34d7",
   "metadata": {},
   "source": [
    "# "
   ]
  },
  {
   "cell_type": "code",
   "execution_count": 20,
   "id": "41db8c75",
   "metadata": {},
   "outputs": [],
   "source": [
    "import json"
   ]
  },
  {
   "cell_type": "markdown",
   "id": "ded297c9",
   "metadata": {},
   "source": [
    "# "
   ]
  },
  {
   "cell_type": "code",
   "execution_count": 22,
   "id": "f767b902",
   "metadata": {},
   "outputs": [],
   "source": [
    "query = \"Give me nutrition information about chicken\""
   ]
  },
  {
   "cell_type": "code",
   "execution_count": 23,
   "id": "bb6649c8",
   "metadata": {},
   "outputs": [],
   "source": [
    "def result(query,body_parts,ninja_api_key):\n",
    "    api_url1 = 'https://api.api-ninjas.com/v1/nutrition?query={}'.format(query)\n",
    "    response1 = requests.get(api_url1, timeout=100, headers={'X-Api-Key': ninja_api_key})\n",
    "    \n",
    "    part = None\n",
    "    for i in query.split():\n",
    "        if i in body_parts:\n",
    "            part = i\n",
    "            \n",
    "    api_url2 = 'https://api.api-ninjas.com/v1/exercises?muscle={}'.format(part)\n",
    "    response2 = requests.get(api_url2, timeout=100, headers={'X-Api-Key': ninja_api_key})\n",
    "    \n",
    "    res1 = json.loads(response1.text)\n",
    "    res2 = json.loads(response2.text)\n",
    "    \n",
    "    return res1 + res2"
   ]
  },
  {
   "cell_type": "code",
   "execution_count": 24,
   "id": "bb7fb4ba",
   "metadata": {},
   "outputs": [],
   "source": [
    "res = result(query,body_parts,ninja_api_key)"
   ]
  },
  {
   "cell_type": "code",
   "execution_count": 25,
   "id": "0ff0e80a",
   "metadata": {},
   "outputs": [
    {
     "data": {
      "text/plain": [
       "[{'name': 'chicken',\n",
       "  'calories': 222.6,\n",
       "  'serving_size_g': 100.0,\n",
       "  'fat_total_g': 12.9,\n",
       "  'fat_saturated_g': 3.7,\n",
       "  'protein_g': 23.7,\n",
       "  'sodium_mg': 72,\n",
       "  'potassium_mg': 179,\n",
       "  'cholesterol_mg': 92,\n",
       "  'carbohydrates_total_g': 0.0,\n",
       "  'fiber_g': 0.0,\n",
       "  'sugar_g': 0.0}]"
      ]
     },
     "execution_count": 25,
     "metadata": {},
     "output_type": "execute_result"
    }
   ],
   "source": [
    "res"
   ]
  },
  {
   "cell_type": "code",
   "execution_count": 26,
   "id": "b6dc18c2",
   "metadata": {},
   "outputs": [],
   "source": [
    "from langchain.prompts import PromptTemplate"
   ]
  },
  {
   "cell_type": "markdown",
   "id": "81bff6ff",
   "metadata": {},
   "source": [
    "### Experimenting with different prompts"
   ]
  },
  {
   "cell_type": "code",
   "execution_count": 27,
   "id": "54cdd524",
   "metadata": {},
   "outputs": [],
   "source": [
    "prompt = \"\"\" You are a professional dietitian, nutritionist and fitness trainer. Given the following context and question,\n",
    "generate an answer based on this context only. Generate an answer in proper human language like you are talking to client. In the \n",
    "answer give little bit of your touch. Do not make up an answer. If the answer is not found in the context, kindly state \"Sorry!,i am not able to give answer of your question. Please contact your doctor.\"\n",
    "\n",
    "CONTEXT : {context}\n",
    "\n",
    "QUESTION : {question}\n",
    "\"\"\""
   ]
  },
  {
   "cell_type": "code",
   "execution_count": 28,
   "id": "7a11ce69",
   "metadata": {},
   "outputs": [],
   "source": [
    "prompt = \"\"\" You are a professional dietitian, nutritionist and fitness trainer. Given the following context and question,\n",
    "generate an answer based on this context as much as possible. Generate an answer in proper human language like you are talking to client. In the \n",
    "answer give little bit of your touch. Do not make up an answer. If the answer is not found in the context, kindly state \"Sorry!,i am not able to give answer of your question. Please contact your doctor.\"\n",
    "In the answer do not give any escape characters.\n",
    "\n",
    "CONTEXT : {context}\n",
    "\n",
    "QUESTION : {question}\n",
    "\"\"\""
   ]
  },
  {
   "cell_type": "code",
   "execution_count": 29,
   "id": "ac65b5ba",
   "metadata": {},
   "outputs": [],
   "source": [
    "prompt = \"\"\" You are a professional dietitian, nutritionist and fitness trainer. Given the following context and question,\n",
    "generate an answer based on this context as much as possible. Generate an answer in proper human language like you are talking to client. In the \n",
    "answer give little bit of your touch. Do not make up an answer. If the answer is not found in the context, kindly state \"Sorry!,i am not able to give answer of your question. Please contact your doctor.\".\n",
    "In the answer do not give any escape characters.\n",
    "Separate the answers related dietitian, nutritionist and fitness trainer properly.\n",
    "\n",
    "CONTEXT : {context}\n",
    "\n",
    "QUESTION : {question}\n",
    "\"\"\""
   ]
  },
  {
   "cell_type": "code",
   "execution_count": 30,
   "id": "576915e3",
   "metadata": {},
   "outputs": [],
   "source": [
    "prompt = \"\"\" You are a professional dietitian, nutritionist and fitness trainer. Given the following context and question,\n",
    "generate an answer based on this context as much as possible. Generate an answer in proper human language like you are talking to client. In the \n",
    "answer give little bit of your touch. Do not make up an answer. If the question is related to recommendation then ask user input like body type and fitness goal.\n",
    "Separate the answers related dietitian, nutritionist and fitness trainer properly.\n",
    "\n",
    "CONTEXT : {context}\n",
    "\n",
    "QUESTION : {question}\n",
    "\"\"\""
   ]
  },
  {
   "cell_type": "code",
   "execution_count": 31,
   "id": "bed15008",
   "metadata": {},
   "outputs": [],
   "source": [
    "query = \"Give me diet recommendation for weight loss\""
   ]
  },
  {
   "cell_type": "code",
   "execution_count": 32,
   "id": "c0232781",
   "metadata": {},
   "outputs": [],
   "source": [
    "prompt_template = PromptTemplate(template=prompt,input_variables=[\"context\",\"question\"])"
   ]
  },
  {
   "cell_type": "code",
   "execution_count": 33,
   "id": "0e754405",
   "metadata": {},
   "outputs": [],
   "source": [
    "final = llm(prompt_template.format(context=res,question=query))"
   ]
  },
  {
   "cell_type": "code",
   "execution_count": 34,
   "id": "a94b4147",
   "metadata": {
    "scrolled": true
   },
   "outputs": [
    {
     "data": {
      "text/plain": [
       "\"**Dietitian:** To lose weight, you need to create a calorie deficit, meaning you need to burn more calories than you consume. There are a few ways to do this:\\n\\n* **Eat fewer calories.** This is the most important factor in weight loss. Aim to reduce your daily calorie intake by 500-1,000 calories. You can do this by cutting out sugary drinks, processed foods, and unhealthy fats.\\n* **Increase your physical activity.** Exercise is another great way to burn calories and lose weight. Aim for at least 30 minutes of moderate-intensity exercise most days of the week.\\n* **Make gradual changes.** Don't try to change everything all at once. Start by making small changes to your diet and lifestyle, and gradually increase your efforts over time.\\n\\nHere are some specific diet recommendations for weight loss:\\n\\n* **Eat plenty of fruits and vegetables.** Fruits and vegetables are low in calories and high in fiber, which can help you feel full and satisfied.\\n* **Choose lean protein sources.** Lean protein sources, such as chicken, fish, and tofu, are a great way to build muscle and burn fat.\\n* **Limit unhealthy fats.** Unhealthy fats, such as saturated and trans fats, are high in calories and can contribute to weight gain.\\n* **Drink plenty of water.** Water is essential for good health, and it can also help you feel full.\\n\\n**Nutritionist:** In addition to the diet recommendations above, here are some additional nutrition tips for weight loss:\\n\\n* **Eat breakfast every day.** Skipping breakfast can lead to overeating later in the day.\\n* **Eat regular meals and snacks.** This will help to keep your blood sugar levels stable and prevent cravings.\\n* **Choose whole grains over refined grains.** Whole grains are a good source of fiber, which can help you feel full and satisfied.\\n* **Limit processed foods.** Processed foods are often high in unhealthy fats, sugar, and sodium.\\n* **Read food labels carefully.** Be aware of the calories, fat, sugar, and sodium content of the foods you eat.\\n\\n**Fitness trainer:** In addition to diet and nutrition, exercise is an important part of a weight loss program. Here are some specific exercise recommendations for weight loss:\\n\\n* **Start slowly and gradually increase your intensity and duration over time.** This will help you avoid injuries and burn fat more effectively.\\n* **Find an activity that you enjoy and that you can stick with.** This will make it more likely that you will continue to exercise long-term.\\n* **Set realistic goals.** Don't try to lose too much weight too quickly. Aim to lose 1-2 pounds per week.\\n* **Make exercise a part of your lifestyle.** The goal is to make exercise a habit that you can stick with for the long term.\""
      ]
     },
     "execution_count": 34,
     "metadata": {},
     "output_type": "execute_result"
    }
   ],
   "source": [
    "final"
   ]
  },
  {
   "cell_type": "code",
   "execution_count": 35,
   "id": "5eed7aa8",
   "metadata": {},
   "outputs": [],
   "source": [
    "final = final.replace(\"\\n\",\" \")\n",
    "final = final.replace(\"* **\",\"\")"
   ]
  },
  {
   "cell_type": "markdown",
   "id": "129dba28",
   "metadata": {},
   "source": [
    "**Dietitian:** Chicken is a good source of protein, vitamins, and minerals. It is also low in saturated fat and cholesterol. One hundred grams of cooked chicken breast contains about 222 calories, 12.9 grams of fat, 3.7 grams of saturated fat, 23.7 grams of protein, 72 milligrams of sodium, 179 milligrams of potassium, 92 milligrams of cholesterol, and 0 grams of carbohydrates, fiber, and sugar.  **Nutritionist:** Chicken is a good source of protein, which is essential for building and maintaining muscle mass. It is also a good source of vitamins B6 and B12, which are important for energy metabolism and red blood cell production. Chicken is also a good source of iron, which is essential for oxygen transport in the blood.  **Fitness trainer:** The following exercises are good for targeting the biceps:  Incline Hammer Curls:** Sit on an incline bench with a dumbbell in each hand. Allow the dumbbells to hang straight down at your side, holding them with a neutral grip. This will be your starting position. Initiate the movement by flexing at the elbow, attempting to keep the upper arm stationary. Continue to the top of the movement and pause, then slowly return to the start position. Wide-grip barbell curl:** Stand up with your torso upright while holding a barbell at the wide outer handle. The palm of your hands should be facing forward. The elbows should be close to the torso. This will be your starting position. While holding the upper arms stationary, curl the weights forward while contracting the biceps as you breathe out. Tip: Only the forearms should move. Continue the movement until your biceps are fully contracted and the bar is at shoulder level. Hold the contracted position for a second and squeeze the biceps hard. Slowly begin to bring the bar back to starting position as your breathe in. Repeat for the recommended amount of repetitions. EZ-bar spider curl:** Start out by setting the bar on the part of the preacher bench that you would normally sit on. Make sure to align the barbell properly so that it is balanced and will not fall off. Move to the front side of the preacher bench (the part where the arms usually lay) and position yourself to lay at a 45 degree slant with your torso and stomach pressed against the front side of the preacher bench. Make sure that your feet (especially the toes) are well positioned on the floor and place your upper arms on top of the pad located on the inside part of the preacher bench. Use your arms to grab the barbell with a supinated grip (palms facing up) at about shoulder width apart or slightly closer from each other. Slowly begin to lift the barbell upwards and exhale. Hold the contracted position for a second as you squeeze the biceps. Slowly begin to bring the barbell back to the starting position as your breathe in. . Repeat for the recommended amount of repetitions. Variation: You can also use dumbbells when performing this exercise. Just make sure you place the dumbbells on the part of the preacher bench where you would normally sit properly."
   ]
  },
  {
   "cell_type": "markdown",
   "id": "84d1391e",
   "metadata": {},
   "source": [
    "# "
   ]
  },
  {
   "cell_type": "markdown",
   "id": "f7247f14",
   "metadata": {},
   "source": [
    "### Diet Recommendation on user data"
   ]
  },
  {
   "cell_type": "code",
   "execution_count": 54,
   "id": "f05be124",
   "metadata": {},
   "outputs": [],
   "source": [
    "recommend_prompt = \"\"\"You are a Diet recommendation System. Generate an answer in proper human language like you are talking to client. In the \n",
    "answer give little bit of your touch. I want you to recommend personalized diet based on following crieteria\\n.\n",
    "Person Age: {age}\\n\n",
    "Person gender: {gender}\\n\n",
    "Person weight: {weight}\\n\n",
    "person height: {height}\\n\n",
    "person is veg or nonveg : {veg_or_nonveg}\\n\n",
    "person allergies: {allergy}\\n\n",
    "Person's fitness goal: {goal}\n",
    "\n",
    "\"\"\""
   ]
  },
  {
   "cell_type": "code",
   "execution_count": 55,
   "id": "eaf10566",
   "metadata": {},
   "outputs": [],
   "source": [
    "prompt_template = PromptTemplate(template=recommend_prompt,input_variables=[\"age\",\"gender\",\"weight\",\"height\",\"veg_or_nonveg\",\"allergy\",\"goal\"])"
   ]
  },
  {
   "cell_type": "code",
   "execution_count": 56,
   "id": "b5326fc8",
   "metadata": {},
   "outputs": [],
   "source": [
    "from langchain.chains import LLMChain"
   ]
  },
  {
   "cell_type": "code",
   "execution_count": 57,
   "id": "eba8736d",
   "metadata": {},
   "outputs": [],
   "source": [
    "chain = LLMChain(llm=llm,prompt=prompt_template)"
   ]
  },
  {
   "cell_type": "code",
   "execution_count": 58,
   "id": "7b5b97fb",
   "metadata": {},
   "outputs": [],
   "source": [
    "input_data = {\n",
    "    \"age\":50,\n",
    "    \"gender\":\"male\",\n",
    "    \"weight\":120,\n",
    "    \"height\":5,\n",
    "    \"veg_or_nonveg\":\"non veg\",\n",
    "    \"allergy\":\"None\",\n",
    "    \"goal\":\"None\"\n",
    "}"
   ]
  },
  {
   "cell_type": "code",
   "execution_count": 60,
   "id": "6a8021f4",
   "metadata": {},
   "outputs": [],
   "source": [
    "rec = chain.run(input_data)"
   ]
  },
  {
   "cell_type": "code",
   "execution_count": 61,
   "id": "186d62fd",
   "metadata": {},
   "outputs": [],
   "source": [
    "rec = rec.replace(\"\\n\",\" \")"
   ]
  },
  {
   "cell_type": "code",
   "execution_count": 62,
   "id": "9221e716",
   "metadata": {
    "collapsed": true
   },
   "outputs": [
    {
     "data": {
      "text/plain": [
       "\"**Hello, I'm a diet recommendation system. I can help you create a personalized diet plan based on your individual needs.**  **I see that you are a 50-year-old male, non-vegetarian, with no allergies and no fitness goals.**  **Based on this information, I recommend the following diet plan:**  * **Breakfast:**     * 1 cup of oatmeal with fruit and nuts     * 1 cup of coffee or tea * **Lunch:**     * Salad with grilled chicken or fish     * 1 cup of brown rice or quinoa     * 1 cup of vegetables * **Dinner:**     * Salmon with roasted vegetables     * 1 cup of brown rice or quinoa     * 1 cup of vegetables * **Snacks:**     * Yogurt with fruit and nuts     * 1 cup of fruit     * 1 cup of vegetables  **This diet plan is designed to provide you with the nutrients you need to stay healthy and active. It is also balanced and flexible, so you can easily make changes to accommodate your preferences and lifestyle.**  **If you have any questions or concerns, please don't hesitate to contact me.**  **I hope this helps!**\""
      ]
     },
     "execution_count": 62,
     "metadata": {},
     "output_type": "execute_result"
    }
   ],
   "source": [
    "rec"
   ]
  },
  {
   "cell_type": "code",
   "execution_count": 82,
   "id": "b20b3f09",
   "metadata": {},
   "outputs": [],
   "source": [
    "rec1 = rec.replace(\"*\",\"\")"
   ]
  },
  {
   "cell_type": "code",
   "execution_count": 83,
   "id": "1e86f4bb",
   "metadata": {},
   "outputs": [],
   "source": [
    "rec1 = rec1.replace(\"  \",\"\\n\")"
   ]
  },
  {
   "cell_type": "code",
   "execution_count": 84,
   "id": "7c368d41",
   "metadata": {},
   "outputs": [
    {
     "name": "stdout",
     "output_type": "stream",
     "text": [
      "Hello, I'm a diet recommendation system. I can help you create a personalized diet plan based on your individual needs.\n",
      "I see that you are a 50-year-old male, non-vegetarian, with no allergies and no fitness goals.\n",
      "Based on this information, I recommend the following diet plan:\n",
      " Breakfast:\n",
      "\n",
      "\n",
      "1 cup of oatmeal with fruit and nuts\n",
      "\n",
      "\n",
      "1 cup of coffee or tea\n",
      "Lunch:\n",
      "\n",
      "\n",
      "Salad with grilled chicken or fish\n",
      "\n",
      "\n",
      "1 cup of brown rice or quinoa\n",
      "\n",
      "\n",
      "1 cup of vegetables\n",
      "Dinner:\n",
      "\n",
      "\n",
      "Salmon with roasted vegetables\n",
      "\n",
      "\n",
      "1 cup of brown rice or quinoa\n",
      "\n",
      "\n",
      "1 cup of vegetables\n",
      "Snacks:\n",
      "\n",
      "\n",
      "Yogurt with fruit and nuts\n",
      "\n",
      "\n",
      "1 cup of fruit\n",
      "\n",
      "\n",
      "1 cup of vegetables\n",
      "This diet plan is designed to provide you with the nutrients you need to stay healthy and active. It is also balanced and flexible, so you can easily make changes to accommodate your preferences and lifestyle.\n",
      "If you have any questions or concerns, please don't hesitate to contact me.\n",
      "I hope this helps!\n"
     ]
    }
   ],
   "source": [
    "print(rec1)"
   ]
  },
  {
   "cell_type": "markdown",
   "id": "5d51ee60",
   "metadata": {},
   "source": [
    "# "
   ]
  }
 ],
 "metadata": {
  "kernelspec": {
   "display_name": "Python 3 (ipykernel)",
   "language": "python",
   "name": "python3"
  },
  "language_info": {
   "codemirror_mode": {
    "name": "ipython",
    "version": 3
   },
   "file_extension": ".py",
   "mimetype": "text/x-python",
   "name": "python",
   "nbconvert_exporter": "python",
   "pygments_lexer": "ipython3",
   "version": "3.9.1"
  }
 },
 "nbformat": 4,
 "nbformat_minor": 5
}
